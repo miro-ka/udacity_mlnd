{
 "cells": [
  {
   "cell_type": "markdown",
   "metadata": {},
   "source": [
    "# Machine Learning Engineer Nanodegree\n",
    "## Supervised Learning\n",
    "## Project 2: Building a Student Intervention System"
   ]
  },
  {
   "cell_type": "markdown",
   "metadata": {},
   "source": [
    "Welcome to the second project of the Machine Learning Engineer Nanodegree! In this notebook, some template code has already been provided for you, and it will be your job to implement the additional functionality necessary to successfully complete this project. Sections that begin with **'Implementation'** in the header indicate that the following block of code will require additional functionality which you must provide. Instructions will be provided for each section and the specifics of the implementation are marked in the code block with a `'TODO'` statement. Please be sure to read the instructions carefully!\n",
    "\n",
    "In addition to implementing code, there will be questions that you must answer which relate to the project and your implementation. Each section where you will answer a question is preceded by a **'Question X'** header. Carefully read each question and provide thorough answers in the following text boxes that begin with **'Answer:'**. Your project submission will be evaluated based on your answers to each of the questions and the implementation you provide.  \n",
    "\n",
    ">**Note:** Code and Markdown cells can be executed using the **Shift + Enter** keyboard shortcut. In addition, Markdown cells can be edited by typically double-clicking the cell to enter edit mode."
   ]
  },
  {
   "cell_type": "markdown",
   "metadata": {},
   "source": [
    "### Question 1 - Classification vs. Regression\n",
    "*Your goal for this project is to identify students who might need early intervention before they fail to graduate. Which type of supervised learning problem is this, classification or regression? Why?*"
   ]
  },
  {
   "cell_type": "markdown",
   "metadata": {},
   "source": [
    "**Answer: **\n",
    "\n",
    "This problem is a classification problem. The reason is that the goal is to divide students to 2 groups (early intervention or not) - 2 classes. We already know what the output classes are, we just need to find out that into which group the input should go. "
   ]
  },
  {
   "cell_type": "markdown",
   "metadata": {},
   "source": [
    "## Exploring the Data\n",
    "Run the code cell below to load necessary Python libraries and load the student data. Note that the last column from this dataset, `'passed'`, will be our target label (whether the student graduated or didn't graduate). All other columns are features about each student."
   ]
  },
  {
   "cell_type": "markdown",
   "metadata": {},
   "source": [
    "### Implementation: Data Exploration\n",
    "Let's begin by investigating the dataset to determine how many students we have information on, and learn about the graduation rate among these students. In the code cell below, you will need to compute the following:\n",
    "- The total number of students, `n_students`.\n",
    "- The total number of features for each student, `n_features`.\n",
    "- The number of those students who passed, `n_passed`.\n",
    "- The number of those students who failed, `n_failed`.\n",
    "- The graduation rate of the class, `grad_rate`, in percent (%).\n"
   ]
  },
  {
   "cell_type": "code",
   "execution_count": 2,
   "metadata": {
    "collapsed": false
   },
   "outputs": [
    {
     "name": "stdout",
     "output_type": "stream",
     "text": [
      "Student data read successfully!\n"
     ]
    }
   ],
   "source": [
    "# Import libraries\n",
    "import numpy as np\n",
    "import pandas as pd\n",
    "from time import time\n",
    "from sklearn.metrics import f1_score\n",
    "\n",
    "# Read student data\n",
    "student_data = pd.read_csv(\"student-data.csv\")\n",
    "print \"Student data read successfully!\""
   ]
  },
  {
   "cell_type": "code",
   "execution_count": 3,
   "metadata": {
    "collapsed": false
   },
   "outputs": [
    {
     "name": "stdout",
     "output_type": "stream",
     "text": [
      "Total number of students: 395\n",
      "Number of features: 30\n",
      "Number of students who passed: 265\n",
      "Number of students who failed: 130\n",
      "Graduation rate of the class: 67.09%\n"
     ]
    }
   ],
   "source": [
    "# TODO: Calculate number of students\n",
    "n_students = student_data.shape[0]\n",
    "\n",
    "# TODO: Calculate number of features\n",
    "n_features = student_data.shape[1] - 1 #removing labels column\n",
    "\n",
    "# TODO: Calculate passing students\n",
    "n_passed = (student_data[\"passed\"]==\"yes\").value_counts()[1]\n",
    "\n",
    "# TODO: Calculate failing students\n",
    "n_failed = (student_data[\"passed\"]==\"yes\").value_counts()[0]\n",
    "\n",
    "# TODO: Calculate graduation rate\n",
    "grad_rate = (float(n_passed) / float(n_students))*100\n",
    "\n",
    "# Print the results\n",
    "print \"Total number of students: {}\".format(n_students)\n",
    "print \"Number of features: {}\".format(n_features)\n",
    "print \"Number of students who passed: {}\".format(n_passed)\n",
    "print \"Number of students who failed: {}\".format(n_failed)\n",
    "print \"Graduation rate of the class: {:.2f}%\".format(grad_rate)"
   ]
  },
  {
   "cell_type": "markdown",
   "metadata": {},
   "source": [
    "## Preparing the Data\n",
    "In this section, we will prepare the data for modeling, training and testing.\n",
    "\n",
    "### Identify feature and target columns\n",
    "It is often the case that the data you obtain contains non-numeric features. This can be a problem, as most machine learning algorithms expect numeric data to perform computations with.\n",
    "\n",
    "Run the code cell below to separate the student data into feature and target columns to see if any features are non-numeric."
   ]
  },
  {
   "cell_type": "code",
   "execution_count": 4,
   "metadata": {
    "collapsed": false
   },
   "outputs": [
    {
     "name": "stdout",
     "output_type": "stream",
     "text": [
      "Feature columns:\n",
      "['school', 'sex', 'age', 'address', 'famsize', 'Pstatus', 'Medu', 'Fedu', 'Mjob', 'Fjob', 'reason', 'guardian', 'traveltime', 'studytime', 'failures', 'schoolsup', 'famsup', 'paid', 'activities', 'nursery', 'higher', 'internet', 'romantic', 'famrel', 'freetime', 'goout', 'Dalc', 'Walc', 'health', 'absences']\n",
      "\n",
      "Target column: passed\n",
      "\n",
      "Feature values:\n",
      "  school sex  age address famsize Pstatus  Medu  Fedu     Mjob      Fjob  \\\n",
      "0     GP   F   18       U     GT3       A     4     4  at_home   teacher   \n",
      "1     GP   F   17       U     GT3       T     1     1  at_home     other   \n",
      "2     GP   F   15       U     LE3       T     1     1  at_home     other   \n",
      "3     GP   F   15       U     GT3       T     4     2   health  services   \n",
      "4     GP   F   16       U     GT3       T     3     3    other     other   \n",
      "\n",
      "    ...    higher internet  romantic  famrel  freetime goout Dalc Walc health  \\\n",
      "0   ...       yes       no        no       4         3     4    1    1      3   \n",
      "1   ...       yes      yes        no       5         3     3    1    1      3   \n",
      "2   ...       yes      yes        no       4         3     2    2    3      3   \n",
      "3   ...       yes      yes       yes       3         2     2    1    1      5   \n",
      "4   ...       yes       no        no       4         3     2    1    2      5   \n",
      "\n",
      "  absences  \n",
      "0        6  \n",
      "1        4  \n",
      "2       10  \n",
      "3        2  \n",
      "4        4  \n",
      "\n",
      "[5 rows x 30 columns]\n"
     ]
    }
   ],
   "source": [
    "# Extract feature columns\n",
    "feature_cols = list(student_data.columns[:-1])\n",
    "\n",
    "# Extract target column 'passed'\n",
    "target_col = student_data.columns[-1] \n",
    "\n",
    "# Show the list of columns\n",
    "print \"Feature columns:\\n{}\".format(feature_cols)\n",
    "print \"\\nTarget column: {}\".format(target_col)\n",
    "\n",
    "# Separate the data into feature data and target data (X_all and y_all, respectively)\n",
    "X_all = student_data[feature_cols]\n",
    "y_all = student_data[target_col]\n",
    "\n",
    "# Show the feature information by printing the first five rows\n",
    "print \"\\nFeature values:\"\n",
    "print X_all.head()"
   ]
  },
  {
   "cell_type": "markdown",
   "metadata": {},
   "source": [
    "### Preprocess Feature Columns\n",
    "\n",
    "As you can see, there are several non-numeric columns that need to be converted! Many of them are simply `yes`/`no`, e.g. `internet`. These can be reasonably converted into `1`/`0` (binary) values.\n",
    "\n",
    "Other columns, like `Mjob` and `Fjob`, have more than two values, and are known as _categorical variables_. The recommended way to handle such a column is to create as many columns as possible values (e.g. `Fjob_teacher`, `Fjob_other`, `Fjob_services`, etc.), and assign a `1` to one of them and `0` to all others.\n",
    "\n",
    "These generated columns are sometimes called _dummy variables_, and we will use the [`pandas.get_dummies()`](http://pandas.pydata.org/pandas-docs/stable/generated/pandas.get_dummies.html?highlight=get_dummies#pandas.get_dummies) function to perform this transformation. Run the code cell below to perform the preprocessing routine discussed in this section."
   ]
  },
  {
   "cell_type": "code",
   "execution_count": 5,
   "metadata": {
    "collapsed": false
   },
   "outputs": [
    {
     "name": "stdout",
     "output_type": "stream",
     "text": [
      "Processed feature columns (48 total features):\n",
      "['school_GP', 'school_MS', 'sex_F', 'sex_M', 'age', 'address_R', 'address_U', 'famsize_GT3', 'famsize_LE3', 'Pstatus_A', 'Pstatus_T', 'Medu', 'Fedu', 'Mjob_at_home', 'Mjob_health', 'Mjob_other', 'Mjob_services', 'Mjob_teacher', 'Fjob_at_home', 'Fjob_health', 'Fjob_other', 'Fjob_services', 'Fjob_teacher', 'reason_course', 'reason_home', 'reason_other', 'reason_reputation', 'guardian_father', 'guardian_mother', 'guardian_other', 'traveltime', 'studytime', 'failures', 'schoolsup', 'famsup', 'paid', 'activities', 'nursery', 'higher', 'internet', 'romantic', 'famrel', 'freetime', 'goout', 'Dalc', 'Walc', 'health', 'absences']\n",
      "\n",
      "Features count:  48\n",
      "   school_GP  school_MS  sex_F  sex_M  age  address_R  address_U  famsize_GT3  \\\n",
      "0        1.0        0.0    1.0    0.0   18        0.0        1.0          1.0   \n",
      "1        1.0        0.0    1.0    0.0   17        0.0        1.0          1.0   \n",
      "2        1.0        0.0    1.0    0.0   15        0.0        1.0          0.0   \n",
      "3        1.0        0.0    1.0    0.0   15        0.0        1.0          1.0   \n",
      "4        1.0        0.0    1.0    0.0   16        0.0        1.0          1.0   \n",
      "5        1.0        0.0    0.0    1.0   16        0.0        1.0          0.0   \n",
      "6        1.0        0.0    0.0    1.0   16        0.0        1.0          0.0   \n",
      "7        1.0        0.0    1.0    0.0   17        0.0        1.0          1.0   \n",
      "8        1.0        0.0    0.0    1.0   15        0.0        1.0          0.0   \n",
      "9        1.0        0.0    0.0    1.0   15        0.0        1.0          1.0   \n",
      "\n",
      "   famsize_LE3  Pstatus_A    ...     higher  internet  romantic  famrel  \\\n",
      "0          0.0        1.0    ...          1         0         0       4   \n",
      "1          0.0        0.0    ...          1         1         0       5   \n",
      "2          1.0        0.0    ...          1         1         0       4   \n",
      "3          0.0        0.0    ...          1         1         1       3   \n",
      "4          0.0        0.0    ...          1         0         0       4   \n",
      "5          1.0        0.0    ...          1         1         0       5   \n",
      "6          1.0        0.0    ...          1         1         0       4   \n",
      "7          0.0        1.0    ...          1         0         0       4   \n",
      "8          1.0        1.0    ...          1         1         0       4   \n",
      "9          0.0        0.0    ...          1         1         0       5   \n",
      "\n",
      "   freetime  goout  Dalc  Walc  health  absences  \n",
      "0         3      4     1     1       3         6  \n",
      "1         3      3     1     1       3         4  \n",
      "2         3      2     2     3       3        10  \n",
      "3         2      2     1     1       5         2  \n",
      "4         3      2     1     2       5         4  \n",
      "5         4      2     1     2       5        10  \n",
      "6         4      4     1     1       3         0  \n",
      "7         1      4     1     1       1         6  \n",
      "8         2      2     1     1       1         0  \n",
      "9         5      1     1     1       5         0  \n",
      "\n",
      "[10 rows x 48 columns]\n"
     ]
    }
   ],
   "source": [
    "def preprocess_features(X):\n",
    "    ''' Preprocesses the student data and converts non-numeric binary variables into\n",
    "        binary (0/1) variables. Converts categorical variables into dummy variables. '''\n",
    "    \n",
    "    # Initialize new output DataFrame\n",
    "    output = pd.DataFrame(index = X.index)\n",
    "\n",
    "    # Investigate each feature column for the data\n",
    "    for col, col_data in X.iteritems():\n",
    "        \n",
    "        # If data type is non-numeric, replace all yes/no values with 1/0\n",
    "        if col_data.dtype == object:\n",
    "            col_data = col_data.replace(['yes', 'no'], [1, 0])\n",
    "\n",
    "        # If data type is categorical, convert to dummy variables\n",
    "        if col_data.dtype == object:\n",
    "            # Example: 'school' => 'school_GP' and 'school_MS'\n",
    "            col_data = pd.get_dummies(col_data, prefix = col)  \n",
    "        \n",
    "        # Collect the revised columns\n",
    "        output = output.join(col_data)\n",
    "    \n",
    "    return output\n",
    "\n",
    "X_all = preprocess_features(X_all)\n",
    "print \"Processed feature columns ({} total features):\\n{}\".format(len(X_all.columns), list(X_all.columns))\n",
    "\n",
    "print \"\\nFeatures count: \", len(X_all.columns) \n",
    "\n",
    "print X_all.head(10)"
   ]
  },
  {
   "cell_type": "markdown",
   "metadata": {},
   "source": [
    "### Implementation: Training and Testing Data Split\n",
    "So far, we have converted all _categorical_ features into numeric values. For the next step, we split the data (both features and corresponding labels) into training and test sets. In the following code cell below, you will need to implement the following:\n",
    "- Randomly shuffle and split the data (`X_all`, `y_all`) into training and testing subsets.\n",
    "  - Use 300 training points (approximately 75%) and 95 testing points (approximately 25%).\n",
    "  - Set a `random_state` for the function(s) you use, if provided.\n",
    "  - Store the results in `X_train`, `X_test`, `y_train`, and `y_test`."
   ]
  },
  {
   "cell_type": "code",
   "execution_count": 15,
   "metadata": {
    "collapsed": false
   },
   "outputs": [
    {
     "name": "stdout",
     "output_type": "stream",
     "text": [
      "Training set has 300 samples.\n",
      "Testing set has 95 samples.\n"
     ]
    }
   ],
   "source": [
    "# TODO: Import any additional functionality you may need here\n",
    "from sklearn.cross_validation import train_test_split\n",
    "\n",
    "# TODO: Set the number of training points\n",
    "num_train = 300\n",
    "\n",
    "# Set the number of testing points\n",
    "num_test = X_all.shape[0] - num_train\n",
    "\n",
    "np.random.seed(10)\n",
    "X_rand = X_all.reindex(np.random.permutation(X_all.index))\n",
    "\n",
    "np.random.seed(10)\n",
    "y_rand = y_all.reindex(np.random.permutation(y_all.index))\n",
    "\n",
    "\n",
    "# TODO: Shuffle and split the dataset into the number of training and testing points above\n",
    "X_train, X_test = train_test_split(X_rand, test_size = num_test, random_state=10)\n",
    "y_train, y_test = train_test_split(y_rand, test_size = num_test, random_state=10)\n",
    "\n",
    "# Show the results of the split\n",
    "print \"Training set has {} samples.\".format(X_train.shape[0])\n",
    "print \"Testing set has {} samples.\".format(X_test.shape[0])"
   ]
  },
  {
   "cell_type": "markdown",
   "metadata": {},
   "source": [
    "## Training and Evaluating Models\n",
    "In this section, you will choose 3 supervised learning models that are appropriate for this problem and available in `scikit-learn`. You will first discuss the reasoning behind choosing these three models by considering what you know about the data and each model's strengths and weaknesses. You will then fit the model to varying sizes of training data (100 data points, 200 data points, and 300 data points) and measure the F<sub>1</sub> score. You will need to produce three tables (one for each model) that shows the training set size, training time, prediction time, F<sub>1</sub> score on the training set, and F<sub>1</sub> score on the testing set."
   ]
  },
  {
   "cell_type": "markdown",
   "metadata": {},
   "source": [
    "### Question 2 - Model Application\n",
    "*List three supervised learning models that are appropriate for this problem. What are the general applications of each model? What are their strengths and weaknesses? Given what you know about the data, why did you choose these models to be applied?*"
   ]
  },
  {
   "cell_type": "markdown",
   "metadata": {},
   "source": [
    "**Answer: **\n",
    "\n",
    "Data: \n",
    "- Training size: 300\n",
    "- Testing size: 95\n",
    "- Features: 48\n",
    "\n",
    "\n",
    "\n",
    "**Model A: Decision tree**\n",
    "I think that the features should be a good candidates for a decision tree model. Reason is that I think that the features are linear and properly grouped (clear margin separation). For example everybody with grade avarage 4 above will pass (problem would be if everybody above grade avarege 6 would not pass)\n",
    "- Pros\n",
    " - the output of a decision tree can be easily interpreted (by humans) as rules\n",
    " - Data classification without much calculations\n",
    " - Dealing with noisy or incomplete data\n",
    " - Easily handle irrelevant attributes\n",
    " - Are robust against skewed distributions\n",
    " - We don't need to worry about normalizing the data\n",
    " - Simple to visualize\n",
    "- Cons\n",
    " - Exponential calculation growth while problem is getting bigger\n",
    " - DT does not work well if you have smooth boundaries. (i.e they work best when you have discontinuous piece wise constant model)\n",
    " - Decision Tree's do not work best if you have a lot of  un-correlated variables\n",
    " \n",
    "Examples of usage/real-world applications:\n",
    "- Astronomy: \n",
    " - Astronomy has been an active domain for using automated classification techniques. Use of decision trees for filtering noise from Hubble Space Telescope images\n",
    " -  Decision trees have helped in star-galaxy classification, determining galaxy counts and discovering quasars in the Second Palomar Sky Survey\n",
    "- Medicine: \n",
    " - Medical research and practice have long been important areas of application for decision tree techniques. Recent uses of automatic induction of decision trees can be found in diagnosis, cardiology, psychiatry, gastroenterology\n",
    "- Physics \n",
    " - Decision trees have been used for the detection of physical particles \n",
    "\n",
    "\n",
    "\n",
    "**Model B: Support Vector Machines (SVM)**\n",
    "I think that this model should be doing quite well because of the data should have clear margin separation + the data set is not very big. I'm expecting a quite good results from the SVM model.\n",
    "- Pros\n",
    " - It works really well with clear margin of separation\n",
    " - It is effective in high dimensional spaces\n",
    " - Uses a subset of training points in the decision function (called support vectors), so it is also memory efficient\n",
    " - Effective in cases where number of dimensions is greater than the number of samples\n",
    "- Cons\n",
    " - It doesn’t perform well, when we have large data set because the required training time is higher\n",
    " - It also doesn’t perform very well, when the data set has more noise i.e. target classes are overlapping\n",
    "\n",
    "Examples of usage/real-world applications:\n",
    "- Content based image retrieval \n",
    "- Facial expression classification\n",
    "- Geo- and Environmental Sciences: Statistical learning theory for geo(spatial) and spatio-temporal environmental data analysis and modelling. Comparisons with geostatistical predictions and simulations\n",
    "\n",
    "\n",
    "**Model C: K-NN (Nearest Neigbour)**\n",
    "I would like to try this model because of its simplicity and to find out how changes of k will influence the model results\n",
    "\n",
    "- Pros\n",
    " - Simple & Effective\n",
    " - Fast training phase\n",
    " - Effective if the training data is large\n",
    " - Robust to noisy training data\n",
    "- Cons\n",
    " - Does not produce a model, limiting the ability to understand how the features are related to the class\n",
    " - Requires selectioin of an appropriate k\n",
    " - Computation cost is quite high because we need to compute distance of each query instance to all training samples\n",
    "\n",
    "Examples of usage/real-world applications:\n",
    "- Text mining: The KNN algorithm is one of the most popular algorithms for text categorization or text mining\n",
    "- Agriculture: In general, KNN is applied less than other data mining techniques in agriculture related fields. It has been applied, for instance, for simulating daily precipitations and other weather variables\n",
    "- Finance:\n",
    " - Forecasting stock market: Predict the price of a stock, on the basis of company performance\n",
    "measures and economic data\n",
    " - Currency exchange rate\n",
    " - Bank bankruptcies\n",
    " - Understanding and managing financial risk\n",
    " - Trading futures\n",
    " - Credit rating\n",
    " - Loan management\n",
    " - Bank customer profiling\n",
    " - Money laundering analyses \n",
    "\n",
    "\n",
    "**Model D: Logistic regression**\n",
    "Just out of my interest I would like to see, that how well will do logisitic regression compared to other models.\n",
    "\n",
    "- Pros\n",
    " - Convenient probability scores for observations\n",
    " - Efficient implementations available across tools\n",
    "- Cons\n",
    " - Doesn’t perform well when feature space is too large\n",
    " - Doesn’t handle large number of categorical features/variables well\n",
    " - Relies on transformations for non-linear features\n",
    " - Relies on entire data [ Not a very serious drawback I’d say]\n",
    " - Requires large sample size to achieve stable results\n",
    "\n",
    "Examples of usage/real-world applications:\n",
    "- whether an email is SPAM(y=1) OR NOT(y=0)\n",
    "- whether a person will vote or not in upcoming elections\n",
    "- classifying a set of words as nouns, pronouns, adjectives etc. \n",
    "- application in Information extraction\n",
    "- in speech recognition systems"
   ]
  },
  {
   "cell_type": "markdown",
   "metadata": {},
   "source": [
    "### Setup\n",
    "Run the code cell below to initialize three helper functions which you can use for training and testing the three supervised learning models you've chosen above. The functions are as follows:\n",
    "- `train_classifier` - takes as input a classifier and training data and fits the classifier to the data.\n",
    "- `predict_labels` - takes as input a fit classifier, features, and a target labeling and makes predictions using the F<sub>1</sub> score.\n",
    "- `train_predict` - takes as input a classifier, and the training and testing data, and performs `train_clasifier` and `predict_labels`.\n",
    " - This function will report the F<sub>1</sub> score for both the training and testing data separately."
   ]
  },
  {
   "cell_type": "code",
   "execution_count": 16,
   "metadata": {
    "collapsed": false
   },
   "outputs": [],
   "source": [
    "def train_classifier(clf, X_train, y_train):\n",
    "    ''' Fits a classifier to the training data. '''\n",
    "    \n",
    "    # Start the clock, train the classifier, then stop the clock\n",
    "    start = time()\n",
    "    clf.fit(X_train, y_train)\n",
    "    end = time()\n",
    "    \n",
    "    # Print the results\n",
    "    print \"Trained model in {:.4f} seconds\".format(end - start)\n",
    "\n",
    "    \n",
    "def predict_labels(clf, features, target):\n",
    "    ''' Makes predictions using a fit classifier based on F1 score. '''\n",
    "    \n",
    "    # Start the clock, make predictions, then stop the clock\n",
    "    start = time()\n",
    "    y_pred = clf.predict(features)\n",
    "    end = time()\n",
    "    \n",
    "    # Print and return results\n",
    "    print \"Made predictions in {:.4f} seconds.\".format(end - start)\n",
    "    return f1_score(target.values, y_pred, pos_label='yes')\n",
    "\n",
    "\n",
    "def train_predict(clf, X_train, y_train, X_test, y_test):\n",
    "    ''' Train and predict using a classifer based on F1 score. '''\n",
    "    \n",
    "    # Indicate the classifier and the training set size\n",
    "    print \"Training a {} using a training set size of {}. . .\".format(clf.__class__.__name__, len(X_train))\n",
    "    \n",
    "    # Train the classifier\n",
    "    train_classifier(clf, X_train, y_train)\n",
    "    \n",
    "    # Print the results of prediction for both training and testing\n",
    "    print \"F1 score for training set: {:.4f}.\".format(predict_labels(clf, X_train, y_train))\n",
    "    print \"F1 score for test set: {:.4f}.\".format(predict_labels(clf, X_test, y_test))"
   ]
  },
  {
   "cell_type": "markdown",
   "metadata": {},
   "source": [
    "### Implementation: Model Performance Metrics\n",
    "With the predefined functions above, you will now import the three supervised learning models of your choice and run the `train_predict` function for each one. Remember that you will need to train and predict on each classifier for three different training set sizes: 100, 200, and 300. Hence, you should expect to have 9 different outputs below — 3 for each model using the varying training set sizes. In the following code cell, you will need to implement the following:\n",
    "- Import the three supervised learning models you've discussed in the previous section.\n",
    "- Initialize the three models and store them in `clf_A`, `clf_B`, and `clf_C`.\n",
    " - Use a `random_state` for each model you use, if provided.\n",
    " - **Note:** Use the default settings for each model — you will tune one specific model in a later section.\n",
    "- Create the different training set sizes to be used to train each model.\n",
    " - *Do not reshuffle and resplit the data! The new training points should be drawn from `X_train` and `y_train`.*\n",
    "- Fit each model with each training set size and make predictions on the test set (9 in total).  \n",
    "**Note:** Three tables are provided after the following code cell which can be used to store your results."
   ]
  },
  {
   "cell_type": "code",
   "execution_count": 17,
   "metadata": {
    "collapsed": false
   },
   "outputs": [
    {
     "name": "stdout",
     "output_type": "stream",
     "text": [
      "Training a DecisionTreeClassifier using a training set size of 100. . .\n",
      "Trained model in 0.0012 seconds\n",
      "Made predictions in 0.0002 seconds.\n",
      "F1 score for training set: 1.0000.\n",
      "Made predictions in 0.0002 seconds.\n",
      "F1 score for test set: 0.7188.\n",
      "\n",
      "\n",
      "Training a DecisionTreeClassifier using a training set size of 200. . .\n",
      "Trained model in 0.0015 seconds\n",
      "Made predictions in 0.0003 seconds.\n",
      "F1 score for training set: 1.0000.\n",
      "Made predictions in 0.0004 seconds.\n",
      "F1 score for test set: 0.7143.\n",
      "\n",
      "\n",
      "Training a DecisionTreeClassifier using a training set size of 300. . .\n",
      "Trained model in 0.0030 seconds\n",
      "Made predictions in 0.0006 seconds.\n",
      "F1 score for training set: 1.0000.\n",
      "Made predictions in 0.0002 seconds.\n",
      "F1 score for test set: 0.7097.\n",
      "\n",
      "\n",
      "--------------------------------------\n",
      "\n",
      "Training a SVC using a training set size of 100. . .\n",
      "Trained model in 0.0016 seconds\n",
      "Made predictions in 0.0011 seconds.\n",
      "F1 score for training set: 0.8889.\n",
      "Made predictions in 0.0010 seconds.\n",
      "F1 score for test set: 0.7733.\n",
      "\n",
      "\n",
      "Training a SVC using a training set size of 200. . .\n",
      "Trained model in 0.0040 seconds\n",
      "Made predictions in 0.0032 seconds.\n",
      "F1 score for training set: 0.8657.\n",
      "Made predictions in 0.0013 seconds.\n",
      "F1 score for test set: 0.7582.\n",
      "\n",
      "\n",
      "Training a SVC using a training set size of 300. . .\n",
      "Trained model in 0.0066 seconds\n",
      "Made predictions in 0.0053 seconds.\n",
      "F1 score for training set: 0.8601.\n",
      "Made predictions in 0.0017 seconds.\n",
      "F1 score for test set: 0.7600.\n",
      "\n",
      "\n",
      "--------------------------------------\n",
      "\n",
      "Training a KNeighborsClassifier using a training set size of 100. . .\n",
      "Trained model in 0.0005 seconds\n",
      "Made predictions in 0.0757 seconds.\n",
      "F1 score for training set: 0.8280.\n",
      "Made predictions in 0.0012 seconds.\n",
      "F1 score for test set: 0.7660.\n",
      "\n",
      "\n",
      "Training a KNeighborsClassifier using a training set size of 200. . .\n",
      "Trained model in 0.0007 seconds\n",
      "Made predictions in 0.0030 seconds.\n",
      "F1 score for training set: 0.8616.\n",
      "Made predictions in 0.0017 seconds.\n",
      "F1 score for test set: 0.7972.\n",
      "\n",
      "\n",
      "Training a KNeighborsClassifier using a training set size of 300. . .\n",
      "Trained model in 0.0007 seconds\n",
      "Made predictions in 0.0058 seconds.\n",
      "F1 score for training set: 0.8565.\n",
      "Made predictions in 0.0021 seconds.\n",
      "F1 score for test set: 0.8029.\n",
      "\n",
      "\n",
      "--------------------------------------\n",
      "\n",
      "Training a LogisticRegression using a training set size of 100. . .\n",
      "Trained model in 0.0011 seconds\n",
      "Made predictions in 0.0002 seconds.\n",
      "F1 score for training set: 0.8966.\n",
      "Made predictions in 0.0002 seconds.\n",
      "F1 score for test set: 0.7402.\n",
      "\n",
      "\n",
      "Training a LogisticRegression using a training set size of 200. . .\n",
      "Trained model in 0.0016 seconds\n",
      "Made predictions in 0.0003 seconds.\n",
      "F1 score for training set: 0.8839.\n",
      "Made predictions in 0.0002 seconds.\n",
      "F1 score for test set: 0.7463.\n",
      "\n",
      "\n",
      "Training a LogisticRegression using a training set size of 300. . .\n",
      "Trained model in 0.0023 seconds\n",
      "Made predictions in 0.0002 seconds.\n",
      "F1 score for training set: 0.8674.\n",
      "Made predictions in 0.0002 seconds.\n",
      "F1 score for test set: 0.7538.\n",
      "\n",
      "\n",
      "--------------------------------------\n",
      "\n"
     ]
    }
   ],
   "source": [
    "import numpy as np\n",
    "# TODO: Import the three supervised learning models from sklearn\n",
    "# from sklearn import model_A\n",
    "from sklearn import tree\n",
    "# from sklearn import model_B\n",
    "from sklearn import svm\n",
    "# from skearln import model_C\n",
    "from sklearn import neighbors \n",
    "from sklearn import linear_model\n",
    "\n",
    "# TODO: Initialize the three models\n",
    "clf_A = tree.DecisionTreeClassifier()\n",
    "clf_B = svm.SVC()\n",
    "clf_C = neighbors.KNeighborsClassifier()\n",
    "clf_D = linear_model.LogisticRegression()\n",
    "\n",
    "# TODO: Set up the training set sizes\n",
    "X_train_100 = X_train.head(100)\n",
    "y_train_100 = y_train.head(100)\n",
    "\n",
    "X_train_200 = X_train.head(200)\n",
    "y_train_200 = y_train.head(200)\n",
    "\n",
    "X_train_300 = X_train.head(300)\n",
    "y_train_300 = y_train.head(300)\n",
    "\n",
    "\n",
    "# TODO: Execute the 'train_predict' function for each classifier and each training set size\n",
    "# train_predict(clf, X_train, y_train, X_test, y_test)\n",
    "\n",
    "for clf in [clf_A, clf_B, clf_C, clf_D]:\n",
    "  for size in [100, 200, 300]:\n",
    "      train_predict(clf, X_train[:size], y_train[:size], X_test, y_test)\n",
    "      print '\\n'\n",
    "  print '--------------------------------------\\n'\n",
    "    \n",
    "\n"
   ]
  },
  {
   "cell_type": "markdown",
   "metadata": {},
   "source": [
    "### Tabular Results\n",
    "Edit the cell below to see how a table can be designed in [Markdown](https://github.com/adam-p/markdown-here/wiki/Markdown-Cheatsheet#tables). You can record your results from above in the tables provided."
   ]
  },
  {
   "cell_type": "markdown",
   "metadata": {},
   "source": [
    "** Classifer 1 - Decision tree**  \n",
    "\n",
    "| Training Set Size | Training Time | Prediction Time (test) | F1 Score (train) | F1 Score (test) |\n",
    "| :---------------: | :---------------------: | :--------------------: | :--------------: | :-------------: |\n",
    "| 100               | 0.0012                  | 0.0002                 | 1.0              | 0.7188          |\n",
    "| 200               | 0.0015                  | 0.0004                 | 1.0              | 0.7143          |\n",
    "| 300               | 0.0030                  | 0.0002                 | 1.0              | 0.7097          |\n",
    "\n",
    "** Classifer 2 - SVM (Support Vector Machines)**  \n",
    "\n",
    "| Training Set Size | Training Time | Prediction Time (test) | F1 Score (train) | F1 Score (test) |\n",
    "| :---------------: | :---------------------: | :--------------------: | :--------------: | :-------------: |\n",
    "| 100               | 0.0016                  | 0.0010                 | 0.8889           | 0.7733          |\n",
    "| 200               | 0.0040                  | 0.0013                 | 0.8657           | 0.7582          |\n",
    "| 300               | 0.0066                  | 0.0017                 | 0.8601           | 0.7600          |\n",
    "\n",
    "** Classifer 3 - KNN**  \n",
    "\n",
    "| Training Set Size | Training Time | Prediction Time (test) | F1 Score (train) | F1 Score (test) |\n",
    "| :---------------: | :---------------------: | :--------------------: | :--------------: | :-------------: |\n",
    "| 100               | 0.0005                  | 0.0012                 | 0.8280           | 0.7660          |\n",
    "| 200               | 0.0007                  | 0.0017                 | 0.8616           | 0.7972          |\n",
    "| 300               | 0.0007                  | 0.0021                 | 0.8565           | 0.8029          |\n",
    "\n",
    "\n",
    "** Classifer 4 - Logistic regression**  \n",
    "\n",
    "| Training Set Size | Training Time | Prediction Time (test) | F1 Score (train) | F1 Score (test) |\n",
    "| :---------------: | :---------------------: | :--------------------: | :--------------: | :-------------: |\n",
    "| 100               | 0.0011                  | 0.0002                 | 0.8966           | 0.7402          |\n",
    "| 200               | 0.0016                  | 0.0002                 | 0.8839           | 0.7463          |\n",
    "| 300               | 0.0023                  | 0.0002                 | 0.8674           | 0.7538          |"
   ]
  },
  {
   "cell_type": "markdown",
   "metadata": {},
   "source": [
    "## Choosing the Best Model\n",
    "In this final section, you will choose from the three supervised learning models the *best* model to use on the student data. You will then perform a grid search optimization for the model over the entire training set (`X_train` and `y_train`) by tuning at least one parameter to improve upon the untuned model's F<sub>1</sub> score. "
   ]
  },
  {
   "cell_type": "markdown",
   "metadata": {},
   "source": [
    "### Question 3 - Chosing the Best Model\n",
    "*Based on the experiments you performed earlier, in one to two paragraphs, explain to the board of supervisors what single model you chose as the best model. Which model is generally the most appropriate based on the available data, limited resources, cost, and performance?*"
   ]
  },
  {
   "cell_type": "markdown",
   "metadata": {},
   "source": [
    "**Answer: **\n",
    "\n",
    "To choose the best model we hava available following properties:\n",
    "- training time\n",
    "- prediction time\n",
    "- training set F1 score\n",
    "- test set F1 score\n",
    "\n",
    "\n",
    "From the tabular results (above), we can see following: \n",
    "- **Best training time** - K-NN (0.007 with training size 300)\n",
    "- **Best prediction time** - Logistic regression (0.0002 with training size 300)\n",
    "- **Best Training F1 score** - Decision tree (100% for all training samples)\n",
    "- **Best Test F1 score** - K-NN (0.8029 with training size 300)\n",
    "\n",
    "\n",
    "When choosing the best model I think that the most important metrics is test F1 score. Reason is that the test F1 score gives us the most realistic measure of our trained model (F1 training score can give us better results, but the model might be overfitting/underfitting - what can see in Decision tree case (it seems that the trained model is overfitting)). If we look at the summary above we can see that the best F1 test score has K-NN model (approx. 80%).\n",
    "\n",
    "If we are planning to use our predictions in real time applications we might consider also prediction time. On another side if we have large training set, training time would be an important decision metric too.\n",
    "\n",
    "**Because of the student prediction system does not seem to be a real-time application and our training set is relatively small I will choose K-NN as the best model.**\n",
    "\n",
    "\n"
   ]
  },
  {
   "cell_type": "markdown",
   "metadata": {},
   "source": [
    "### Question 4 - Model in Layman's Terms\n",
    "*In one to two paragraphs, explain to the board of directors in layman's terms how the final model chosen is supposed to work. For example if you've chosen to use a decision tree or a support vector machine, how does the model go about making a prediction?*"
   ]
  },
  {
   "cell_type": "markdown",
   "metadata": {},
   "source": [
    "**Answer: **\n",
    "\n",
    "Chosen model is K-NN (k - Nearest Neighbor)\n",
    "\n",
    "The k-nearest neighbor model works in a very simple way: Every time when we send a request to the model about making a prediction or classification, the model finds closest neighbor/neighbors to the input and returns the neighbors average output/label. Because of this 'nearest neighbor' relation the model is called k-nearest neighbor. The letter k is a variable term implying that any number of nearest neighbors could be used. \n",
    "\n",
    "With 'closest neighbor' we mean data, that has the closest distance between the input and our training data. As a distance we can use simple shortest Euclidian distance or a distance defined by the problem (for example in map it would be not a streight line, but road distance which will avoid buildings). \n",
    "\n",
    "**Example**\n",
    "\n",
    "As a very simple example we can use following:\n",
    "\n",
    "\n",
    "| Precipitation | Will rain |\n",
    "| :---------------: | :---------------------: |\n",
    "| 10               | no                  | \n",
    "| 50               |no                   | \n",
    "| 100              |yes                  | \n",
    "\n",
    "\n",
    "If we would like to predict whether it will rain tomorrow if the current precipitation is 20, we would do following:\n",
    "- Find closest neighbor to 20 - what in our example is 10\n",
    "- Use the label/output of that data - what in our example would mean that with our current precipitation it will not rain tomorrow.\n",
    "\n",
    "\n",
    "k-NN model is also considered to be **lazy** because it does not learn (the only 'learning' phase is to choose the best k - number of neighbors to use), but it anly takes into consideration the distances. \n",
    "\n"
   ]
  },
  {
   "cell_type": "markdown",
   "metadata": {},
   "source": [
    "### Implementation: Model Tuning\n",
    "Fine tune the chosen model. Use grid search (`GridSearchCV`) with at least one important parameter tuned with at least 3 different values. You will need to use the entire training set for this. In the code cell below, you will need to implement the following:\n",
    "- Import [`sklearn.grid_search.gridSearchCV`](http://scikit-learn.org/stable/modules/generated/sklearn.grid_search.GridSearchCV.html) and [`sklearn.metrics.make_scorer`](http://scikit-learn.org/stable/modules/generated/sklearn.metrics.make_scorer.html).\n",
    "- Create a dictionary of parameters you wish to tune for the chosen model.\n",
    " - Example: `parameters = {'parameter' : [list of values]}`.\n",
    "- Initialize the classifier you've chosen and store it in `clf`.\n",
    "- Create the F<sub>1</sub> scoring function using `make_scorer` and store it in `f1_scorer`.\n",
    " - Set the `pos_label` parameter to the correct value!\n",
    "- Perform grid search on the classifier `clf` using `f1_scorer` as the scoring method, and store it in `grid_obj`.\n",
    "- Fit the grid search object to the training data (`X_train`, `y_train`), and store it in `grid_obj`."
   ]
  },
  {
   "cell_type": "code",
   "execution_count": 74,
   "metadata": {
    "collapsed": false
   },
   "outputs": [
    {
     "name": "stdout",
     "output_type": "stream",
     "text": [
      "Made predictions in 0.0056 seconds.\n",
      "Tuned model has a training F1 score of 0.8837.\n",
      "Made predictions in 0.0023 seconds.\n",
      "Tuned model has a testing F1 score of 0.8235.\n"
     ]
    }
   ],
   "source": [
    "# TODO: Import 'GridSearchCV' and 'make_scorer'\n",
    "from sklearn import grid_search\n",
    "from sklearn.metrics import make_scorer\n",
    "from sklearn import neighbors\n",
    "from sklearn import svm\n",
    "\n",
    "# TODO: Create the parameters list you wish to tune\n",
    "parameters = {'n_neighbors':[2, 3]}\n",
    "#parameters = {'solver':('liblinear', 'sag'), 'C':[1, 10]}\n",
    "\n",
    "# TODO: Initialize the classifier\n",
    "#clf = linear_model.LogisticRegression()\n",
    "clf = neighbors.KNeighborsClassifier()\n",
    "\n",
    "# TODO: Make an f1 scoring function using 'make_scorer' \n",
    "f1_scorer = make_scorer(f1_score, pos_label='yes')\n",
    "\n",
    "\n",
    "# TODO: Perform grid search on the classifier using the f1_scorer as the scoring method\n",
    "grid_obj = grid_search.GridSearchCV(estimator=clf, param_grid=parameters, scoring=f1_scorer)\n",
    "\n",
    "\n",
    "# TODO: Fit the grid search object to the training data and find the optimal parameters\n",
    "grid_obj = grid_obj.fit(X_train, y_train)\n",
    "\n",
    "\n",
    "# Get the estimator\n",
    "clf = grid_obj.best_estimator_\n",
    "\n",
    "# Report the final F1 score for training and testing after parameter tuning\n",
    "print \"Tuned model has a training F1 score of {:.4f}.\".format(predict_labels(clf, X_train, y_train))\n",
    "print \"Tuned model has a testing F1 score of {:.4f}.\".format(predict_labels(clf, X_test, y_test))"
   ]
  },
  {
   "cell_type": "markdown",
   "metadata": {},
   "source": [
    "### Question 5 - Final F<sub>1</sub> Score\n",
    "*What is the final model's F<sub>1</sub> score for training and testing? How does that score compare to the untuned model?*"
   ]
  },
  {
   "cell_type": "markdown",
   "metadata": {},
   "source": [
    "# **Answer: **\n",
    "\n",
    "For K_NN (K Nearest Neighbour was my final F1 training score for the tuned model 0.8837 (88%) and Testing F1 score 0.8235.\n",
    "My untuned model gave me F1 score 0.8565 for training data set of 300, and F1 score for test 0.8029. \n",
    "\n",
    "We can see an improvment in our tuned model of 2% in our testing set.\n"
   ]
  },
  {
   "cell_type": "markdown",
   "metadata": {},
   "source": [
    "> **Note**: Once you have completed all of the code implementations and successfully answered each question above, you may finalize your work by exporting the iPython Notebook as an HTML document. You can do this by using the menu above and navigating to  \n",
    "**File -> Download as -> HTML (.html)**. Include the finished document along with this notebook as your submission."
   ]
  }
 ],
 "metadata": {
  "kernelspec": {
   "display_name": "Python 2",
   "language": "python",
   "name": "python2"
  },
  "language_info": {
   "codemirror_mode": {
    "name": "ipython",
    "version": 2
   },
   "file_extension": ".py",
   "mimetype": "text/x-python",
   "name": "python",
   "nbconvert_exporter": "python",
   "pygments_lexer": "ipython2",
   "version": "2.7.11"
  }
 },
 "nbformat": 4,
 "nbformat_minor": 0
}
